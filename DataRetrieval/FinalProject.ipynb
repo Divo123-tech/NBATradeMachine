{
  "nbformat": 4,
  "nbformat_minor": 0,
  "metadata": {
    "colab": {
      "provenance": []
    },
    "kernelspec": {
      "name": "python3",
      "display_name": "Python 3"
    },
    "language_info": {
      "name": "python"
    }
  },
  "cells": [
    {
      "cell_type": "markdown",
      "source": [
        "# Data cleaning and Web Scraping\n"
      ],
      "metadata": {
        "id": "ukY8d7PdwcaE"
      }
    },
    {
      "cell_type": "code",
      "execution_count": null,
      "metadata": {
        "id": "uIY5adk05fIA"
      },
      "outputs": [],
      "source": [
        "#imports\n",
        "import pandas as pd\n",
        "import numpy as np\n",
        "from bs4 import BeautifulSoup\n",
        "import requests"
      ]
    },
    {
      "cell_type": "code",
      "source": [
        "#import csv and assign it to the playerStatsDf variable\n",
        "playerStatsDf = pd.read_csv(\"PlayersStats.csv\")"
      ],
      "metadata": {
        "id": "-yxf7mDc_q4B"
      },
      "execution_count": null,
      "outputs": []
    },
    {
      "cell_type": "code",
      "source": [
        "print(playerStatsDf.head())"
      ],
      "metadata": {
        "colab": {
          "base_uri": "https://localhost:8080/"
        },
        "id": "HRIdtPQAFGht",
        "outputId": "33abd321-907f-49a9-9d85-0ebcdcb14fb3"
      },
      "execution_count": null,
      "outputs": [
        {
          "output_type": "stream",
          "name": "stdout",
          "text": [
            "   Rk                   Player  Age Pos   G    MP    FG%    3P%   eFG%    FT%  \\\n",
            "0   1  Shai Gilgeous-Alexander   26  PG  64  34.3  0.525  0.371  0.576  0.900   \n",
            "1   2    Giannis Antetokounmpo   30  PF  53  33.8  0.603  0.182  0.607  0.594   \n",
            "2   3             Nikola Jokić   29   C  60  36.4  0.577  0.428  0.627  0.808   \n",
            "3   4              Luka Dončić   25  PG  35  35.1  0.445  0.350  0.527  0.763   \n",
            "4   5          Anthony Edwards   23  SG  64  36.4  0.442  0.406  0.542  0.835   \n",
            "\n",
            "   ORB   DRB   TRB   AST  STL  BLK  TOV   PF   PTS Player-additional  \n",
            "0  0.9   4.2   5.1   6.2  1.8  1.0  2.6  2.3  32.8         gilgesh01  \n",
            "1  2.3   9.8  12.1   5.9  0.8  1.2  3.3  2.4  30.5         antetgi01  \n",
            "2  2.9  10.0  12.9  10.4  1.8  0.7  3.3  2.3  29.0         jokicni01  \n",
            "3  0.8   7.6   8.4   7.7  1.9  0.4  3.7  2.6  27.4         doncilu01  \n",
            "4  0.8   5.2   6.0   4.6  1.1  0.6  3.3  1.8  27.2         edwaran01  \n"
          ]
        }
      ]
    },
    {
      "cell_type": "code",
      "source": [
        "#drop Rk column\n",
        "playerStatsDf = playerStatsDf.drop(\"Rk\", axis=1)"
      ],
      "metadata": {
        "collapsed": true,
        "id": "N5rUSsWPFPmt"
      },
      "execution_count": null,
      "outputs": []
    },
    {
      "cell_type": "code",
      "source": [
        "print(playerStatsDf.head())"
      ],
      "metadata": {
        "colab": {
          "base_uri": "https://localhost:8080/"
        },
        "id": "g__FxqQMFiB9",
        "outputId": "e2e959b1-d223-4086-ed20-45fb80c5be6a"
      },
      "execution_count": null,
      "outputs": [
        {
          "output_type": "stream",
          "name": "stdout",
          "text": [
            "                    Player  Age Pos   G    MP    FG%    3P%   eFG%    FT%  \\\n",
            "0  Shai Gilgeous-Alexander   26  PG  64  34.3  0.525  0.371  0.576  0.900   \n",
            "1    Giannis Antetokounmpo   30  PF  53  33.8  0.603  0.182  0.607  0.594   \n",
            "2             Nikola Jokić   29   C  60  36.4  0.577  0.428  0.627  0.808   \n",
            "3              Luka Dončić   25  PG  35  35.1  0.445  0.350  0.527  0.763   \n",
            "4          Anthony Edwards   23  SG  64  36.4  0.442  0.406  0.542  0.835   \n",
            "\n",
            "   ORB   DRB   TRB   AST  STL  BLK  TOV   PF   PTS Player-additional  \n",
            "0  0.9   4.2   5.1   6.2  1.8  1.0  2.6  2.3  32.8         gilgesh01  \n",
            "1  2.3   9.8  12.1   5.9  0.8  1.2  3.3  2.4  30.5         antetgi01  \n",
            "2  2.9  10.0  12.9  10.4  1.8  0.7  3.3  2.3  29.0         jokicni01  \n",
            "3  0.8   7.6   8.4   7.7  1.9  0.4  3.7  2.6  27.4         doncilu01  \n",
            "4  0.8   5.2   6.0   4.6  1.1  0.6  3.3  1.8  27.2         edwaran01  \n"
          ]
        }
      ]
    },
    {
      "cell_type": "code",
      "source": [
        "#import csv and assign it to the playerStatsDf variable\n",
        "playerContractsDf = pd.read_csv(\"PlayersContracts.csv\")"
      ],
      "metadata": {
        "id": "CqABXIerS1Xl"
      },
      "execution_count": null,
      "outputs": []
    },
    {
      "cell_type": "code",
      "source": [
        "print(playerContractsDf.tail())"
      ],
      "metadata": {
        "colab": {
          "base_uri": "https://localhost:8080/"
        },
        "id": "mU8Hwm4RS5NF",
        "outputId": "6df69265-d264-42d8-b165-188e9ec33cb0"
      },
      "execution_count": null,
      "outputs": [
        {
          "output_type": "stream",
          "name": "stdout",
          "text": [
            "                    Player   Tm  2024-25 2025-26 2026-27 2027-28 2028-29  \\\n",
            "491  Javon Freeman-Liberty  TOR  $100000     NaN     NaN     NaN     NaN   \n",
            "492         Erik Stevenson  WAS   $66503     NaN     NaN     NaN     NaN   \n",
            "493        Branden Carlson  OKC  $496519     NaN     NaN     NaN     NaN   \n",
            "494        Branden Carlson  OKC  $496519     NaN     NaN     NaN     NaN   \n",
            "495          Javante McCoy  DET   $47265     NaN     NaN     NaN     NaN   \n",
            "\n",
            "    2029-30 Guaranteed Player-additional  \n",
            "491     NaN    $100000         freemja01  \n",
            "492     NaN     $66503         steveer01  \n",
            "493     NaN    $496519         carlsbr01  \n",
            "494     NaN    $496519         carlsbr01  \n",
            "495     NaN     $47265         mccoyja01  \n"
          ]
        }
      ]
    },
    {
      "cell_type": "code",
      "source": [
        "#drop duplicate player entries\n",
        "playerContractsDf = playerContractsDf.drop_duplicates([\"Player\"])"
      ],
      "metadata": {
        "id": "iAOjcHkBTYLO"
      },
      "execution_count": null,
      "outputs": []
    },
    {
      "cell_type": "code",
      "source": [
        "print(playerContractsDf.tail())"
      ],
      "metadata": {
        "colab": {
          "base_uri": "https://localhost:8080/"
        },
        "id": "q04b55V0Tj8U",
        "outputId": "4eb9c662-b7cf-4461-cccf-845049794032"
      },
      "execution_count": null,
      "outputs": [
        {
          "output_type": "stream",
          "name": "stdout",
          "text": [
            "                    Player   Tm  2024-25 2025-26 2026-27 2027-28 2028-29  \\\n",
            "489            Chuma Okeke  PHI  $119972     NaN     NaN     NaN     NaN   \n",
            "490          Jahlil Okafor  IND  $119972     NaN     NaN     NaN     NaN   \n",
            "491  Javon Freeman-Liberty  TOR  $100000     NaN     NaN     NaN     NaN   \n",
            "492         Erik Stevenson  WAS   $66503     NaN     NaN     NaN     NaN   \n",
            "495          Javante McCoy  DET   $47265     NaN     NaN     NaN     NaN   \n",
            "\n",
            "    2029-30 Guaranteed Player-additional  \n",
            "489     NaN    $119972         okekech01  \n",
            "490     NaN    $119972         okafoja01  \n",
            "491     NaN    $100000         freemja01  \n",
            "492     NaN     $66503         steveer01  \n",
            "495     NaN     $47265         mccoyja01  \n"
          ]
        }
      ]
    },
    {
      "cell_type": "code",
      "source": [
        "#fill the na with 0\n",
        "playerContractsDf.fillna(0, inplace=True)"
      ],
      "metadata": {
        "id": "BfZGxVgbUbHF"
      },
      "execution_count": null,
      "outputs": []
    },
    {
      "cell_type": "code",
      "source": [
        "#replace the $ sign to have an int value\n",
        "playerContractsDf = playerContractsDf.replace({'\\$': ''}, regex=True)\n"
      ],
      "metadata": {
        "id": "CFv6D8GXUtzU"
      },
      "execution_count": null,
      "outputs": []
    },
    {
      "cell_type": "code",
      "source": [
        "print(playerContractsDf.head())"
      ],
      "metadata": {
        "colab": {
          "base_uri": "https://localhost:8080/"
        },
        "id": "FWy-G0YzUwwM",
        "outputId": "e4ed8921-c4dd-4a39-8d37-f06218df14fe"
      },
      "execution_count": null,
      "outputs": [
        {
          "output_type": "stream",
          "name": "stdout",
          "text": [
            "          Player   Tm   2024-25   2025-26   2026-27   2027-28   2028-29  \\\n",
            "0  Stephen Curry  GSW  55761216  59606817  62587158         0         0   \n",
            "1    Joel Embiid  PHI  51415938  55224526  57985752  62624612  67263472   \n",
            "2   Nikola Jokić  DEN  51415938  55224526  59033114  62841702         0   \n",
            "3   Kevin Durant  PHO  51179021  54708609         0         0         0   \n",
            "4   Bradley Beal  PHO  50203930  53666270  57128610         0         0   \n",
            "\n",
            "  2029-30 Guaranteed Player-additional  \n",
            "0       0  177955191         curryst01  \n",
            "1       0  227250828         embiijo01  \n",
            "2       0  165673578         jokicni01  \n",
            "3       0  105887630         duranke01  \n",
            "4       0  103870200          bealbr01  \n"
          ]
        }
      ]
    },
    {
      "cell_type": "code",
      "source": [
        "#change contracts to have int type\n",
        "playerContractsDf[[\"2024-25\", \"2025-26\", \"2026-27\", \"2027-28\", \"2028-29\", \"2029-30\"]] = playerContractsDf[[\"2024-25\", \"2025-26\", \"2026-27\", \"2027-28\", \"2028-29\", \"2029-30\"]].astype(int)\n"
      ],
      "metadata": {
        "id": "A3R8HlLgVAmz"
      },
      "execution_count": null,
      "outputs": []
    },
    {
      "cell_type": "code",
      "source": [
        "print(playerContractsDf.dtypes)\n"
      ],
      "metadata": {
        "colab": {
          "base_uri": "https://localhost:8080/"
        },
        "id": "hK-IQCPZVFEs",
        "outputId": "ed3b7304-7f52-4647-cb59-18eb1a0878a6"
      },
      "execution_count": null,
      "outputs": [
        {
          "output_type": "stream",
          "name": "stdout",
          "text": [
            "Player               object\n",
            "Tm                   object\n",
            "2024-25               int64\n",
            "2025-26               int64\n",
            "2026-27               int64\n",
            "2027-28               int64\n",
            "2028-29               int64\n",
            "2029-30               int64\n",
            "Guaranteed           object\n",
            "Player-additional    object\n",
            "dtype: object\n"
          ]
        }
      ]
    },
    {
      "cell_type": "code",
      "source": [
        "columns_to_check = [\"2024-25\", \"2025-26\", \"2026-27\", \"2027-28\", \"2028-29\", \"2029-30\"]\n",
        "playerContractsDf[\"contract_length\"] = (playerContractsDf[columns_to_check] != 0).sum(axis=1)\n"
      ],
      "metadata": {
        "id": "wnnZPKccWCA0"
      },
      "execution_count": null,
      "outputs": []
    },
    {
      "cell_type": "code",
      "source": [
        "print(playerContractsDf.head())"
      ],
      "metadata": {
        "colab": {
          "base_uri": "https://localhost:8080/"
        },
        "id": "8Abnh9ZzWC97",
        "outputId": "2420eea4-8e79-4a45-cd87-aa88509d5477"
      },
      "execution_count": null,
      "outputs": [
        {
          "output_type": "stream",
          "name": "stdout",
          "text": [
            "          Player   Tm   2024-25   2025-26   2026-27   2027-28   2028-29  \\\n",
            "0  Stephen Curry  GSW  55761216  59606817  62587158         0         0   \n",
            "1    Joel Embiid  PHI  51415938  55224526  57985752  62624612  67263472   \n",
            "2   Nikola Jokić  DEN  51415938  55224526  59033114  62841702         0   \n",
            "3   Kevin Durant  PHO  51179021  54708609         0         0         0   \n",
            "4   Bradley Beal  PHO  50203930  53666270  57128610         0         0   \n",
            "\n",
            "   2029-30 Guaranteed Player-additional  contract_length  \n",
            "0        0  177955191         curryst01                3  \n",
            "1        0  227250828         embiijo01                5  \n",
            "2        0  165673578         jokicni01                4  \n",
            "3        0  105887630         duranke01                2  \n",
            "4        0  103870200          bealbr01                3  \n"
          ]
        }
      ]
    },
    {
      "cell_type": "code",
      "source": [
        "#drop player column\n",
        "playerContractsDf = playerContractsDf.drop(columns=[\"Player\"])"
      ],
      "metadata": {
        "id": "_gYPagNmZOl5"
      },
      "execution_count": null,
      "outputs": []
    },
    {
      "cell_type": "code",
      "source": [
        "merged_df = playerStatsDf.merge(playerContractsDf, on=\"Player-additional\", how=\"right\")\n"
      ],
      "metadata": {
        "id": "gpcFahy_YKfL"
      },
      "execution_count": null,
      "outputs": []
    },
    {
      "cell_type": "code",
      "source": [
        "print(merged_df)"
      ],
      "metadata": {
        "colab": {
          "base_uri": "https://localhost:8080/"
        },
        "id": "ZzH3WVFVYaNx",
        "outputId": "bb25d6cd-aa3c-4b00-cd41-59e8a5d8ec99"
      },
      "execution_count": null,
      "outputs": [
        {
          "output_type": "stream",
          "name": "stdout",
          "text": [
            "            Player   Age  Pos     G    MP    FG%    3P%   eFG%    FT%  ORB  \\\n",
            "0    Stephen Curry  36.0   PG  57.0  32.2  0.448  0.398  0.573  0.936  0.6   \n",
            "1      Joel Embiid  30.0    C  19.0  30.2  0.444  0.299  0.481  0.882  1.9   \n",
            "2     Nikola Jokić  29.0    C  60.0  36.4  0.577  0.428  0.627  0.808  2.9   \n",
            "3     Kevin Durant  36.0   PF  53.0  37.1  0.529  0.413  0.597  0.830  0.4   \n",
            "4     Bradley Beal  31.0   SG  46.0  32.7  0.506  0.393  0.577  0.824  0.7   \n",
            "..             ...   ...  ...   ...   ...    ...    ...    ...    ...  ...   \n",
            "475    Chuma Okeke  26.0   PF   1.0   2.0    NaN    NaN    NaN    NaN  0.0   \n",
            "476  Jahlil Okafor  29.0    C   1.0   3.0    NaN    NaN    NaN    NaN  0.0   \n",
            "477            NaN   NaN  NaN   NaN   NaN    NaN    NaN    NaN    NaN  NaN   \n",
            "478            NaN   NaN  NaN   NaN   NaN    NaN    NaN    NaN    NaN  NaN   \n",
            "479            NaN   NaN  NaN   NaN   NaN    NaN    NaN    NaN    NaN  NaN   \n",
            "\n",
            "     ...  Player-additional   Tm   2024-25   2025-26   2026-27   2027-28  \\\n",
            "0    ...          curryst01  GSW  55761216  59606817  62587158         0   \n",
            "1    ...          embiijo01  PHI  51415938  55224526  57985752  62624612   \n",
            "2    ...          jokicni01  DEN  51415938  55224526  59033114  62841702   \n",
            "3    ...          duranke01  PHO  51179021  54708609         0         0   \n",
            "4    ...           bealbr01  PHO  50203930  53666270  57128610         0   \n",
            "..   ...                ...  ...       ...       ...       ...       ...   \n",
            "475  ...          okekech01  PHI    119972         0         0         0   \n",
            "476  ...          okafoja01  IND    119972         0         0         0   \n",
            "477  ...          freemja01  TOR    100000         0         0         0   \n",
            "478  ...          steveer01  WAS     66503         0         0         0   \n",
            "479  ...          mccoyja01  DET     47265         0         0         0   \n",
            "\n",
            "      2028-29  2029-30 Guaranteed contract_length  \n",
            "0           0        0  177955191               3  \n",
            "1    67263472        0  227250828               5  \n",
            "2           0        0  165673578               4  \n",
            "3           0        0  105887630               2  \n",
            "4           0        0  103870200               3  \n",
            "..        ...      ...        ...             ...  \n",
            "475         0        0     119972               1  \n",
            "476         0        0     119972               1  \n",
            "477         0        0     100000               1  \n",
            "478         0        0      66503               1  \n",
            "479         0        0      47265               1  \n",
            "\n",
            "[480 rows x 28 columns]\n"
          ]
        }
      ]
    },
    {
      "cell_type": "code",
      "source": [
        "#drop null rows where player has no name\n",
        "merged_df = merged_df.dropna(subset=[\"Player\"])\n"
      ],
      "metadata": {
        "id": "xXna_3l5Yx2R"
      },
      "execution_count": null,
      "outputs": []
    },
    {
      "cell_type": "code",
      "source": [
        "print(merged_df)"
      ],
      "metadata": {
        "colab": {
          "base_uri": "https://localhost:8080/"
        },
        "id": "85onv5kAb7Io",
        "outputId": "f54bde01-edab-4a86-df6b-c548e7b19622"
      },
      "execution_count": null,
      "outputs": [
        {
          "output_type": "stream",
          "name": "stdout",
          "text": [
            "              Player   Age Pos     G    MP    FG%    3P%   eFG%    FT%  ORB  \\\n",
            "0      Stephen Curry  36.0  PG  57.0  32.2  0.448  0.398  0.573  0.936  0.6   \n",
            "1        Joel Embiid  30.0   C  19.0  30.2  0.444  0.299  0.481  0.882  1.9   \n",
            "2       Nikola Jokić  29.0   C  60.0  36.4  0.577  0.428  0.627  0.808  2.9   \n",
            "3       Kevin Durant  36.0  PF  53.0  37.1  0.529  0.413  0.597  0.830  0.4   \n",
            "4       Bradley Beal  31.0  SG  46.0  32.7  0.506  0.393  0.577  0.824  0.7   \n",
            "..               ...   ...  ..   ...   ...    ...    ...    ...    ...  ...   \n",
            "471  Bismack Biyombo  32.0   C  13.0  17.6  0.692    NaN  0.692  0.333  1.6   \n",
            "472     Malevy Leons  25.0  SF   6.0   3.5  0.000  0.000  0.000  0.500  0.2   \n",
            "474      Daishen Nix  22.0  PG   3.0   4.3  0.000  0.000  0.000  0.500  0.0   \n",
            "475      Chuma Okeke  26.0  PF   1.0   2.0    NaN    NaN    NaN    NaN  0.0   \n",
            "476    Jahlil Okafor  29.0   C   1.0   3.0    NaN    NaN    NaN    NaN  0.0   \n",
            "\n",
            "     ...  Player-additional   Tm   2024-25   2025-26   2026-27   2027-28  \\\n",
            "0    ...          curryst01  GSW  55761216  59606817  62587158         0   \n",
            "1    ...          embiijo01  PHI  51415938  55224526  57985752  62624612   \n",
            "2    ...          jokicni01  DEN  51415938  55224526  59033114  62841702   \n",
            "3    ...          duranke01  PHO  51179021  54708609         0         0   \n",
            "4    ...           bealbr01  PHO  50203930  53666270  57128610         0   \n",
            "..   ...                ...  ...       ...       ...       ...       ...   \n",
            "471  ...          biyombi01  SAS    143967         0         0         0   \n",
            "472  ...          leonsma01  OKC    126356         0         0         0   \n",
            "474  ...            nixda01  SAC    119972         0         0         0   \n",
            "475  ...          okekech01  PHI    119972         0         0         0   \n",
            "476  ...          okafoja01  IND    119972         0         0         0   \n",
            "\n",
            "      2028-29  2029-30 Guaranteed contract_length  \n",
            "0           0        0  177955191               3  \n",
            "1    67263472        0  227250828               5  \n",
            "2           0        0  165673578               4  \n",
            "3           0        0  105887630               2  \n",
            "4           0        0  103870200               3  \n",
            "..        ...      ...        ...             ...  \n",
            "471         0        0     287934               1  \n",
            "472         0        0     126356               1  \n",
            "474         0        0     119972               1  \n",
            "475         0        0     119972               1  \n",
            "476         0        0     119972               1  \n",
            "\n",
            "[451 rows x 28 columns]\n"
          ]
        }
      ]
    },
    {
      "cell_type": "code",
      "source": [
        "columns_to_replace = [\"FG%\", \"3P%\", \"eFG%\", \"FT%\"]\n",
        "merged_df[columns_to_replace] = merged_df[columns_to_replace].fillna(0.0)\n"
      ],
      "metadata": {
        "id": "rWMZp0l7cWag"
      },
      "execution_count": null,
      "outputs": []
    },
    {
      "cell_type": "code",
      "source": [
        "merged_df.drop(columns=[\"Player-additional\"], inplace=True)"
      ],
      "metadata": {
        "id": "GH1UM_v3cnL3"
      },
      "execution_count": null,
      "outputs": []
    },
    {
      "cell_type": "code",
      "source": [
        "print(merged_df.columns)"
      ],
      "metadata": {
        "colab": {
          "base_uri": "https://localhost:8080/"
        },
        "id": "PCQA8f_zcY0o",
        "outputId": "97e09c90-bf3f-4d9b-f168-e5f6d8c71a2e"
      },
      "execution_count": null,
      "outputs": [
        {
          "output_type": "stream",
          "name": "stdout",
          "text": [
            "Index(['Player', 'Age', 'Pos', 'G', 'MP', 'FG%', '3P%', 'eFG%', 'FT%', 'ORB',\n",
            "       'DRB', 'TRB', 'AST', 'STL', 'BLK', 'TOV', 'PF', 'PTS', 'Tm', '2024-25',\n",
            "       '2025-26', '2026-27', '2027-28', '2028-29', '2029-30', 'Guaranteed',\n",
            "       'contract_length'],\n",
            "      dtype='object')\n"
          ]
        }
      ]
    },
    {
      "cell_type": "code",
      "source": [
        "# Save the merged DataFrame to a CSV file\n",
        "merged_df.to_csv(\"players_data.csv\", index=False)\n"
      ],
      "metadata": {
        "id": "q5H3VxJLgutV"
      },
      "execution_count": null,
      "outputs": []
    },
    {
      "cell_type": "code",
      "source": [
        "#array of nba teams\n",
        "nbaTeams = [\n",
        "  { \"name\": \"Atlanta Hawks\", \"abbreviation\": \"ATL\", \"id\": 1 },\n",
        "  { \"name\": \"Boston Celtics\", \"abbreviation\": \"BOS\", \"id\": 2 },\n",
        "  { \"name\": \"Brooklyn Nets\", \"abbreviation\": \"BKN\", \"id\": 3 },\n",
        "  { \"name\": \"Charlotte Hornets\", \"abbreviation\": \"CHA\", \"id\": 4 },\n",
        "  { \"name\": \"Chicago Bulls\", \"abbreviation\": \"CHI\", \"id\": 5 },\n",
        "  { \"name\": \"Cleveland Cavaliers\", \"abbreviation\": \"CLE\", \"id\": 6 },\n",
        "  { \"name\": \"Dallas Mavericks\", \"abbreviation\": \"DAL\", \"id\": 7 },\n",
        "  { \"name\": \"Denver Nuggets\", \"abbreviation\": \"DEN\", \"id\": 8 },\n",
        "  { \"name\": \"Detroit Pistons\", \"abbreviation\": \"DET\", \"id\": 9 },\n",
        "  { \"name\": \"Golden State Warriors\", \"abbreviation\": \"GSW\", \"id\": 10 },\n",
        "  { \"name\": \"Houston Rockets\", \"abbreviation\": \"HOU\", \"id\": 11 },\n",
        "  { \"name\": \"Indiana Pacers\", \"abbreviation\": \"IND\", \"id\": 12 },\n",
        "  { \"name\": \"Los Angeles Clippers\", \"abbreviation\": \"LAC\", \"id\": 13 },\n",
        "  { \"name\": \"Los Angeles Lakers\", \"abbreviation\": \"LAL\", \"id\": 14 },\n",
        "  { \"name\": \"Memphis Grizzlies\", \"abbreviation\": \"MEM\", \"id\": 15 },\n",
        "  { \"name\": \"Miami Heat\", \"abbreviation\": \"MIA\", \"id\": 16 },\n",
        "  { \"name\": \"Milwaukee Bucks\", \"abbreviation\": \"MIL\", \"id\": 17 },\n",
        "  { \"name\": \"Minnesota Timberwolves\", \"abbreviation\": \"MIN\", \"id\": 18 },\n",
        "  { \"name\": \"New Orleans Pelicans\", \"abbreviation\": \"NOP\", \"id\": 19 },\n",
        "  { \"name\": \"New York Knicks\", \"abbreviation\": \"NYK\", \"id\": 20 },\n",
        "  { \"name\": \"Oklahoma City Thunder\", \"abbreviation\": \"OKC\", \"id\": 21 },\n",
        "  { \"name\": \"Orlando Magic\", \"abbreviation\": \"ORL\", \"id\": 22 },\n",
        "  { \"name\": \"Philadelphia 76ers\", \"abbreviation\": \"PHI\", \"id\": 23 },\n",
        "  { \"name\": \"Phoenix Suns\", \"abbreviation\": \"PHX\", \"id\": 24 },\n",
        "  { \"name\": \"Portland Trail Blazers\", \"abbreviation\": \"POR\", \"id\": 25 },\n",
        "  { \"name\": \"Sacramento Kings\", \"abbreviation\": \"SAC\", \"id\": 26 },\n",
        "  { \"name\": \"San Antonio Spurs\", \"abbreviation\": \"SAS\", \"id\": 27 },\n",
        "  { \"name\": \"Toronto Raptors\", \"abbreviation\": \"TOR\", \"id\": 28 },\n",
        "  { \"name\": \"Utah Jazz\", \"abbreviation\": \"UTA\", \"id\": 29 },\n",
        "  { \"name\": \"Washington Wizards\", \"abbreviation\": \"WAS\", \"id\": 30 }\n",
        "];\n"
      ],
      "metadata": {
        "id": "siz5XQ5Rdb65"
      },
      "execution_count": null,
      "outputs": []
    },
    {
      "cell_type": "code",
      "source": [
        "def getTeamLogo(team_name, team_id, team_abbreviation):\n",
        "  # Step 1: Send a request to the website to get the page content\n",
        "  url = f\"https://fanspo.com/nba/teams/{team_name.split(' ')[-1]}/{team_id}/draft-picks\"\n",
        "  response = requests.get(url)\n",
        "  # Check if the request was successful\n",
        "  if response.status_code == 200:\n",
        "      print(\"Page fetched successfully!\")\n",
        "  else:\n",
        "      print(f\"Failed to retrieve the page. Status code: {response.status_code}\")\n",
        "  # Step 2: Parse the HTML content using BeautifulSoup\n",
        "  soup = BeautifulSoup(response.text, \"html.parser\")\n",
        "  images = soup.find_all(\"img\", class_=\"tss-16dk2bj-teamAvatar\")\n",
        "  print(images[0])\n",
        "  return images[0]"
      ],
      "metadata": {
        "id": "tQc5TnXWryb_"
      },
      "execution_count": null,
      "outputs": []
    },
    {
      "cell_type": "code",
      "source": [
        "#change the nbaTeams array to have the logo\n",
        "for team in nbaTeams:\n",
        "  logo = getTeamLogo(team[\"name\"], team[\"id\"], team[\"abbreviation\"])\n",
        "  team[\"logo\"] = logo.get(\"src\")"
      ],
      "metadata": {
        "colab": {
          "base_uri": "https://localhost:8080/"
        },
        "collapsed": true,
        "id": "gyzAHjsfsNrm",
        "outputId": "40085ddb-6f5a-4d8a-d59d-ad2d3e71884e"
      },
      "execution_count": null,
      "outputs": [
        {
          "output_type": "stream",
          "name": "stdout",
          "text": [
            "Page fetched successfully!\n",
            "<img alt=\"Hawks\" class=\"tss-16dk2bj-teamAvatar\" src=\"https://cdn.nba.com/logos/nba/1610612737/primary/L/logo.svg\"/>\n",
            "Page fetched successfully!\n",
            "<img alt=\"Celtics\" class=\"tss-16dk2bj-teamAvatar\" src=\"https://cdn.nba.com/logos/nba/1610612738/primary/L/logo.svg\"/>\n",
            "Page fetched successfully!\n",
            "<img alt=\"Nets\" class=\"tss-16dk2bj-teamAvatar\" src=\"https://cdn.nba.com/logos/nba/1610612751/primary/L/logo.svg\"/>\n",
            "Page fetched successfully!\n",
            "<img alt=\"Hornets\" class=\"tss-16dk2bj-teamAvatar\" src=\"https://cdn.nba.com/logos/nba/1610612766/primary/L/logo.svg\"/>\n",
            "Page fetched successfully!\n",
            "<img alt=\"Bulls\" class=\"tss-16dk2bj-teamAvatar\" src=\"https://cdn.nba.com/logos/nba/1610612741/primary/L/logo.svg\"/>\n",
            "Page fetched successfully!\n",
            "<img alt=\"Cavaliers\" class=\"tss-16dk2bj-teamAvatar\" src=\"https://cdn.nba.com/logos/nba/1610612739/primary/L/logo.svg\"/>\n",
            "Page fetched successfully!\n",
            "<img alt=\"Mavericks\" class=\"tss-16dk2bj-teamAvatar\" src=\"https://cdn.nba.com/logos/nba/1610612742/primary/L/logo.svg\"/>\n",
            "Page fetched successfully!\n",
            "<img alt=\"Nuggets\" class=\"tss-16dk2bj-teamAvatar\" src=\"https://cdn.nba.com/logos/nba/1610612743/primary/L/logo.svg\"/>\n",
            "Page fetched successfully!\n",
            "<img alt=\"Pistons\" class=\"tss-16dk2bj-teamAvatar\" src=\"https://cdn.nba.com/logos/nba/1610612765/primary/L/logo.svg\"/>\n",
            "Page fetched successfully!\n",
            "<img alt=\"Warriors\" class=\"tss-16dk2bj-teamAvatar\" src=\"https://cdn.nba.com/logos/nba/1610612744/primary/L/logo.svg\"/>\n",
            "Page fetched successfully!\n",
            "<img alt=\"Rockets\" class=\"tss-16dk2bj-teamAvatar\" src=\"https://cdn.nba.com/logos/nba/1610612745/primary/L/logo.svg\"/>\n",
            "Page fetched successfully!\n",
            "<img alt=\"Pacers\" class=\"tss-16dk2bj-teamAvatar\" src=\"https://cdn.nba.com/logos/nba/1610612754/primary/L/logo.svg\"/>\n",
            "Page fetched successfully!\n",
            "<img alt=\"Clippers\" class=\"tss-16dk2bj-teamAvatar\" src=\"https://cdn.nba.com/logos/nba/1610612746/primary/L/logo.svg\"/>\n",
            "Page fetched successfully!\n",
            "<img alt=\"Lakers\" class=\"tss-16dk2bj-teamAvatar\" src=\"https://cdn.nba.com/logos/nba/1610612747/primary/L/logo.svg\"/>\n",
            "Page fetched successfully!\n",
            "<img alt=\"Grizzlies\" class=\"tss-16dk2bj-teamAvatar\" src=\"https://cdn.nba.com/logos/nba/1610612763/primary/L/logo.svg\"/>\n",
            "Page fetched successfully!\n",
            "<img alt=\"Heat\" class=\"tss-16dk2bj-teamAvatar\" src=\"https://cdn.nba.com/logos/nba/1610612748/primary/L/logo.svg\"/>\n",
            "Page fetched successfully!\n",
            "<img alt=\"Bucks\" class=\"tss-16dk2bj-teamAvatar\" src=\"https://cdn.nba.com/logos/nba/1610612749/primary/L/logo.svg\"/>\n",
            "Page fetched successfully!\n",
            "<img alt=\"Timberwolves\" class=\"tss-16dk2bj-teamAvatar\" src=\"https://cdn.nba.com/logos/nba/1610612750/primary/L/logo.svg\"/>\n",
            "Page fetched successfully!\n",
            "<img alt=\"Pelicans\" class=\"tss-16dk2bj-teamAvatar\" src=\"https://cdn.nba.com/logos/nba/1610612740/primary/L/logo.svg\"/>\n",
            "Page fetched successfully!\n",
            "<img alt=\"Knicks\" class=\"tss-16dk2bj-teamAvatar\" src=\"https://cdn.nba.com/logos/nba/1610612752/primary/L/logo.svg\"/>\n",
            "Page fetched successfully!\n",
            "<img alt=\"Thunder\" class=\"tss-16dk2bj-teamAvatar\" src=\"https://cdn.nba.com/logos/nba/1610612760/primary/L/logo.svg\"/>\n",
            "Page fetched successfully!\n",
            "<img alt=\"Magic\" class=\"tss-16dk2bj-teamAvatar\" src=\"https://cdn.nba.com/logos/nba/1610612753/primary/L/logo.svg\"/>\n",
            "Page fetched successfully!\n",
            "<img alt=\"76ers\" class=\"tss-16dk2bj-teamAvatar\" src=\"https://cdn.nba.com/logos/nba/1610612755/primary/L/logo.svg\"/>\n",
            "Page fetched successfully!\n",
            "<img alt=\"Suns\" class=\"tss-16dk2bj-teamAvatar\" src=\"https://cdn.nba.com/logos/nba/1610612756/primary/L/logo.svg\"/>\n",
            "Page fetched successfully!\n",
            "<img alt=\"Trail Blazers\" class=\"tss-16dk2bj-teamAvatar\" src=\"https://cdn.nba.com/logos/nba/1610612757/primary/L/logo.svg\"/>\n",
            "Page fetched successfully!\n",
            "<img alt=\"Kings\" class=\"tss-16dk2bj-teamAvatar\" src=\"https://cdn.nba.com/logos/nba/1610612758/primary/L/logo.svg\"/>\n",
            "Page fetched successfully!\n",
            "<img alt=\"Spurs\" class=\"tss-16dk2bj-teamAvatar\" src=\"https://cdn.nba.com/logos/nba/1610612759/primary/L/logo.svg\"/>\n",
            "Page fetched successfully!\n",
            "<img alt=\"Raptors\" class=\"tss-16dk2bj-teamAvatar\" src=\"https://cdn.nba.com/logos/nba/1610612761/primary/L/logo.svg\"/>\n",
            "Page fetched successfully!\n",
            "<img alt=\"Jazz\" class=\"tss-16dk2bj-teamAvatar\" src=\"https://cdn.nba.com/logos/nba/1610612762/primary/L/logo.svg\"/>\n",
            "Page fetched successfully!\n",
            "<img alt=\"Wizards\" class=\"tss-16dk2bj-teamAvatar\" src=\"https://cdn.nba.com/logos/nba/1610612764/primary/L/logo.svg\"/>\n"
          ]
        }
      ]
    },
    {
      "cell_type": "code",
      "source": [
        "print(nbaTeams)\n"
      ],
      "metadata": {
        "colab": {
          "base_uri": "https://localhost:8080/"
        },
        "id": "_-QhRtyktUb-",
        "outputId": "c3f91dd8-6d8d-40a8-a701-a87bfe12a691"
      },
      "execution_count": null,
      "outputs": [
        {
          "output_type": "stream",
          "name": "stdout",
          "text": [
            "[{'name': 'Atlanta Hawks', 'abbreviation': 'ATL', 'id': 1, 'logo': 'https://cdn.nba.com/logos/nba/1610612737/primary/L/logo.svg'}, {'name': 'Boston Celtics', 'abbreviation': 'BOS', 'id': 2, 'logo': 'https://cdn.nba.com/logos/nba/1610612738/primary/L/logo.svg'}, {'name': 'Brooklyn Nets', 'abbreviation': 'BKN', 'id': 3, 'logo': 'https://cdn.nba.com/logos/nba/1610612751/primary/L/logo.svg'}, {'name': 'Charlotte Hornets', 'abbreviation': 'CHA', 'id': 4, 'logo': 'https://cdn.nba.com/logos/nba/1610612766/primary/L/logo.svg'}, {'name': 'Chicago Bulls', 'abbreviation': 'CHI', 'id': 5, 'logo': 'https://cdn.nba.com/logos/nba/1610612741/primary/L/logo.svg'}, {'name': 'Cleveland Cavaliers', 'abbreviation': 'CLE', 'id': 6, 'logo': 'https://cdn.nba.com/logos/nba/1610612739/primary/L/logo.svg'}, {'name': 'Dallas Mavericks', 'abbreviation': 'DAL', 'id': 7, 'logo': 'https://cdn.nba.com/logos/nba/1610612742/primary/L/logo.svg'}, {'name': 'Denver Nuggets', 'abbreviation': 'DEN', 'id': 8, 'logo': 'https://cdn.nba.com/logos/nba/1610612743/primary/L/logo.svg'}, {'name': 'Detroit Pistons', 'abbreviation': 'DET', 'id': 9, 'logo': 'https://cdn.nba.com/logos/nba/1610612765/primary/L/logo.svg'}, {'name': 'Golden State Warriors', 'abbreviation': 'GSW', 'id': 10, 'logo': 'https://cdn.nba.com/logos/nba/1610612744/primary/L/logo.svg'}, {'name': 'Houston Rockets', 'abbreviation': 'HOU', 'id': 11, 'logo': 'https://cdn.nba.com/logos/nba/1610612745/primary/L/logo.svg'}, {'name': 'Indiana Pacers', 'abbreviation': 'IND', 'id': 12, 'logo': 'https://cdn.nba.com/logos/nba/1610612754/primary/L/logo.svg'}, {'name': 'Los Angeles Clippers', 'abbreviation': 'LAC', 'id': 13, 'logo': 'https://cdn.nba.com/logos/nba/1610612746/primary/L/logo.svg'}, {'name': 'Los Angeles Lakers', 'abbreviation': 'LAL', 'id': 14, 'logo': 'https://cdn.nba.com/logos/nba/1610612747/primary/L/logo.svg'}, {'name': 'Memphis Grizzlies', 'abbreviation': 'MEM', 'id': 15, 'logo': 'https://cdn.nba.com/logos/nba/1610612763/primary/L/logo.svg'}, {'name': 'Miami Heat', 'abbreviation': 'MIA', 'id': 16, 'logo': 'https://cdn.nba.com/logos/nba/1610612748/primary/L/logo.svg'}, {'name': 'Milwaukee Bucks', 'abbreviation': 'MIL', 'id': 17, 'logo': 'https://cdn.nba.com/logos/nba/1610612749/primary/L/logo.svg'}, {'name': 'Minnesota Timberwolves', 'abbreviation': 'MIN', 'id': 18, 'logo': 'https://cdn.nba.com/logos/nba/1610612750/primary/L/logo.svg'}, {'name': 'New Orleans Pelicans', 'abbreviation': 'NOP', 'id': 19, 'logo': 'https://cdn.nba.com/logos/nba/1610612740/primary/L/logo.svg'}, {'name': 'New York Knicks', 'abbreviation': 'NYK', 'id': 20, 'logo': 'https://cdn.nba.com/logos/nba/1610612752/primary/L/logo.svg'}, {'name': 'Oklahoma City Thunder', 'abbreviation': 'OKC', 'id': 21, 'logo': 'https://cdn.nba.com/logos/nba/1610612760/primary/L/logo.svg'}, {'name': 'Orlando Magic', 'abbreviation': 'ORL', 'id': 22, 'logo': 'https://cdn.nba.com/logos/nba/1610612753/primary/L/logo.svg'}, {'name': 'Philadelphia 76ers', 'abbreviation': 'PHI', 'id': 23, 'logo': 'https://cdn.nba.com/logos/nba/1610612755/primary/L/logo.svg'}, {'name': 'Phoenix Suns', 'abbreviation': 'PHX', 'id': 24, 'logo': 'https://cdn.nba.com/logos/nba/1610612756/primary/L/logo.svg'}, {'name': 'Portland Trail Blazers', 'abbreviation': 'POR', 'id': 25, 'logo': 'https://cdn.nba.com/logos/nba/1610612757/primary/L/logo.svg'}, {'name': 'Sacramento Kings', 'abbreviation': 'SAC', 'id': 26, 'logo': 'https://cdn.nba.com/logos/nba/1610612758/primary/L/logo.svg'}, {'name': 'San Antonio Spurs', 'abbreviation': 'SAS', 'id': 27, 'logo': 'https://cdn.nba.com/logos/nba/1610612759/primary/L/logo.svg'}, {'name': 'Toronto Raptors', 'abbreviation': 'TOR', 'id': 28, 'logo': 'https://cdn.nba.com/logos/nba/1610612761/primary/L/logo.svg'}, {'name': 'Utah Jazz', 'abbreviation': 'UTA', 'id': 29, 'logo': 'https://cdn.nba.com/logos/nba/1610612762/primary/L/logo.svg'}, {'name': 'Washington Wizards', 'abbreviation': 'WAS', 'id': 30, 'logo': 'https://cdn.nba.com/logos/nba/1610612764/primary/L/logo.svg'}]\n"
          ]
        }
      ]
    },
    {
      "cell_type": "code",
      "source": [
        "def getTeamDraftPicks(team_name, team_id, team_abbreviation):\n",
        "  # Step 1: Send a request to the website to get the page content\n",
        "  url = f\"https://fanspo.com/nba/teams/{team_name.split(' ')[-1]}/{team_id}/draft-picks\"\n",
        "  response = requests.get(url)\n",
        "\n",
        "  # Check if the request was successful\n",
        "  if response.status_code == 200:\n",
        "      print(\"Page fetched successfully!\")\n",
        "  else:\n",
        "      print(f\"Failed to retrieve the page. Status code: {response.status_code}\")\n",
        "  # Step 2: Parse the HTML content using BeautifulSoup\n",
        "  soup = BeautifulSoup(response.text, \"html.parser\")\n",
        "  # Find the tbody element with the specific class\n",
        "  tbody = soup.find(\"tbody\", class_=\"MuiTableBody-root mui-1xnox0e\")\n",
        "  result = []\n",
        "  # Check if tbody was found\n",
        "  if tbody:\n",
        "      # Find all tr elements inside the tbody\n",
        "      rows = tbody.find_all(\"tr\")\n",
        "\n",
        "      # Loop through each row and extract header (th) and cell (td) data\n",
        "      for row in rows:\n",
        "          # Extract the th (header) data (if it exists)\n",
        "          th = row.find(\"th\")  # The header for this row (if it exists)\n",
        "          th_data = th.text.strip() if th else None  # Get the text or None if no th exists\n",
        "\n",
        "          # Extract the td (cell) data for the row\n",
        "          if th_data is not None:\n",
        "            cells = row.find_all(\"td\")\n",
        "            cell_data = [cell.text.strip() for cell in cells]  # Extract and clean the text\n",
        "            row_dict = {\n",
        "                  \"year\": int(th_data),  # Assuming the year is in the first cell\n",
        "                  \"round\": int(cell_data[0]),  # Convert the round to an integer\n",
        "                  \"#\": cell_data[1],  # Assuming the \"#\" is in the third cell\n",
        "                  \"from\": cell_data[2],  # Assuming the \"from\" info is in the fourth cell\n",
        "                  \"description\": cell_data[3],  # Assuming the description is in the fifth cell\n",
        "                  \"team\": team_abbreviation  # Assuming the team is ATL for this example (you can adjust accordingly)\n",
        "              }\n",
        "            # Include the th data in the row's data\n",
        "            result.append(row_dict)\n",
        "  else:\n",
        "      print(\"Table body not found!\")\n",
        "\n",
        "  return result  # Print each row's data with th included\n"
      ],
      "metadata": {
        "id": "fsa5gxuJiA1M"
      },
      "execution_count": null,
      "outputs": []
    },
    {
      "cell_type": "code",
      "source": [
        "draftPicks = []\n",
        "for team in nbaTeams:\n",
        "  draftPicks += getTeamDraftPicks(team[\"name\"], team[\"id\"], team[\"abbreviation\"])\n"
      ],
      "metadata": {
        "colab": {
          "base_uri": "https://localhost:8080/"
        },
        "collapsed": true,
        "id": "HGzLoFGpo7Hh",
        "outputId": "7cf0a4c8-2b9c-4b42-948e-2540246e62bd"
      },
      "execution_count": null,
      "outputs": [
        {
          "output_type": "stream",
          "name": "stdout",
          "text": [
            "Page fetched successfully!\n",
            "Found image URL: https://cdn.nba.com/logos/nba/1610612737/primary/L/logo.svg\n",
            "Page fetched successfully!\n",
            "Found image URL: https://cdn.nba.com/logos/nba/1610612738/primary/L/logo.svg\n",
            "Page fetched successfully!\n",
            "Found image URL: https://cdn.nba.com/logos/nba/1610612751/primary/L/logo.svg\n",
            "Page fetched successfully!\n",
            "Found image URL: https://cdn.nba.com/logos/nba/1610612766/primary/L/logo.svg\n",
            "Page fetched successfully!\n",
            "Found image URL: https://cdn.nba.com/logos/nba/1610612741/primary/L/logo.svg\n",
            "Page fetched successfully!\n",
            "Found image URL: https://cdn.nba.com/logos/nba/1610612739/primary/L/logo.svg\n",
            "Page fetched successfully!\n",
            "Found image URL: https://cdn.nba.com/logos/nba/1610612742/primary/L/logo.svg\n",
            "Page fetched successfully!\n",
            "Found image URL: https://cdn.nba.com/logos/nba/1610612743/primary/L/logo.svg\n",
            "Page fetched successfully!\n",
            "Found image URL: https://cdn.nba.com/logos/nba/1610612765/primary/L/logo.svg\n",
            "Page fetched successfully!\n",
            "Found image URL: https://cdn.nba.com/logos/nba/1610612744/primary/L/logo.svg\n",
            "Page fetched successfully!\n",
            "Found image URL: https://cdn.nba.com/logos/nba/1610612745/primary/L/logo.svg\n",
            "Page fetched successfully!\n",
            "Found image URL: https://cdn.nba.com/logos/nba/1610612754/primary/L/logo.svg\n",
            "Page fetched successfully!\n",
            "Found image URL: https://cdn.nba.com/logos/nba/1610612746/primary/L/logo.svg\n",
            "Page fetched successfully!\n",
            "Found image URL: https://cdn.nba.com/logos/nba/1610612747/primary/L/logo.svg\n",
            "Page fetched successfully!\n",
            "Found image URL: https://cdn.nba.com/logos/nba/1610612763/primary/L/logo.svg\n",
            "Page fetched successfully!\n",
            "Found image URL: https://cdn.nba.com/logos/nba/1610612748/primary/L/logo.svg\n",
            "Page fetched successfully!\n",
            "Found image URL: https://cdn.nba.com/logos/nba/1610612749/primary/L/logo.svg\n",
            "Page fetched successfully!\n",
            "Found image URL: https://cdn.nba.com/logos/nba/1610612750/primary/L/logo.svg\n",
            "Page fetched successfully!\n",
            "Found image URL: https://cdn.nba.com/logos/nba/1610612740/primary/L/logo.svg\n",
            "Page fetched successfully!\n",
            "Found image URL: https://cdn.nba.com/logos/nba/1610612752/primary/L/logo.svg\n",
            "Page fetched successfully!\n",
            "Found image URL: https://cdn.nba.com/logos/nba/1610612760/primary/L/logo.svg\n",
            "Page fetched successfully!\n",
            "Found image URL: https://cdn.nba.com/logos/nba/1610612753/primary/L/logo.svg\n",
            "Page fetched successfully!\n",
            "Found image URL: https://cdn.nba.com/logos/nba/1610612755/primary/L/logo.svg\n",
            "Page fetched successfully!\n",
            "Found image URL: https://cdn.nba.com/logos/nba/1610612756/primary/L/logo.svg\n",
            "Page fetched successfully!\n",
            "Page fetched successfully!\n",
            "Found image URL: https://cdn.nba.com/logos/nba/1610612758/primary/L/logo.svg\n",
            "Page fetched successfully!\n",
            "Found image URL: https://cdn.nba.com/logos/nba/1610612759/primary/L/logo.svg\n",
            "Page fetched successfully!\n",
            "Found image URL: https://cdn.nba.com/logos/nba/1610612761/primary/L/logo.svg\n",
            "Page fetched successfully!\n",
            "Found image URL: https://cdn.nba.com/logos/nba/1610612762/primary/L/logo.svg\n",
            "Page fetched successfully!\n",
            "Found image URL: https://cdn.nba.com/logos/nba/1610612764/primary/L/logo.svg\n"
          ]
        }
      ]
    },
    {
      "cell_type": "code",
      "source": [
        "draftPicksDf = pd.DataFrame(draftPicks)"
      ],
      "metadata": {
        "id": "VIoDFKyWpmTA"
      },
      "execution_count": null,
      "outputs": []
    },
    {
      "cell_type": "code",
      "source": [
        "draftPicksDf.head()"
      ],
      "metadata": {
        "colab": {
          "base_uri": "https://localhost:8080/",
          "height": 206
        },
        "id": "K8Z_-rTRqHJB",
        "outputId": "3277f4f2-f854-4c4e-fc8f-2d2e0f20bf33"
      },
      "execution_count": null,
      "outputs": [
        {
          "output_type": "execute_result",
          "data": {
            "text/plain": [
              "   year  round  #     from                                        description  \\\n",
              "0  2025      1  -  via SAC                                     Protected 1-12   \n",
              "1  2025      1  -  via LAL                                     No protections   \n",
              "2  2025      2  -  via MIN                                     No protections   \n",
              "3  2026      1  -      Own  SAS has the right to swap its 2026 1st round p...   \n",
              "4  2026      2  -  via MEM                                    Protected 31-42   \n",
              "\n",
              "  team  \n",
              "0  ATL  \n",
              "1  ATL  \n",
              "2  ATL  \n",
              "3  ATL  \n",
              "4  ATL  "
            ],
            "text/html": [
              "\n",
              "  <div id=\"df-65d42592-dacc-4eb9-8a6f-341b15612231\" class=\"colab-df-container\">\n",
              "    <div>\n",
              "<style scoped>\n",
              "    .dataframe tbody tr th:only-of-type {\n",
              "        vertical-align: middle;\n",
              "    }\n",
              "\n",
              "    .dataframe tbody tr th {\n",
              "        vertical-align: top;\n",
              "    }\n",
              "\n",
              "    .dataframe thead th {\n",
              "        text-align: right;\n",
              "    }\n",
              "</style>\n",
              "<table border=\"1\" class=\"dataframe\">\n",
              "  <thead>\n",
              "    <tr style=\"text-align: right;\">\n",
              "      <th></th>\n",
              "      <th>year</th>\n",
              "      <th>round</th>\n",
              "      <th>#</th>\n",
              "      <th>from</th>\n",
              "      <th>description</th>\n",
              "      <th>team</th>\n",
              "    </tr>\n",
              "  </thead>\n",
              "  <tbody>\n",
              "    <tr>\n",
              "      <th>0</th>\n",
              "      <td>2025</td>\n",
              "      <td>1</td>\n",
              "      <td>-</td>\n",
              "      <td>via SAC</td>\n",
              "      <td>Protected 1-12</td>\n",
              "      <td>ATL</td>\n",
              "    </tr>\n",
              "    <tr>\n",
              "      <th>1</th>\n",
              "      <td>2025</td>\n",
              "      <td>1</td>\n",
              "      <td>-</td>\n",
              "      <td>via LAL</td>\n",
              "      <td>No protections</td>\n",
              "      <td>ATL</td>\n",
              "    </tr>\n",
              "    <tr>\n",
              "      <th>2</th>\n",
              "      <td>2025</td>\n",
              "      <td>2</td>\n",
              "      <td>-</td>\n",
              "      <td>via MIN</td>\n",
              "      <td>No protections</td>\n",
              "      <td>ATL</td>\n",
              "    </tr>\n",
              "    <tr>\n",
              "      <th>3</th>\n",
              "      <td>2026</td>\n",
              "      <td>1</td>\n",
              "      <td>-</td>\n",
              "      <td>Own</td>\n",
              "      <td>SAS has the right to swap its 2026 1st round p...</td>\n",
              "      <td>ATL</td>\n",
              "    </tr>\n",
              "    <tr>\n",
              "      <th>4</th>\n",
              "      <td>2026</td>\n",
              "      <td>2</td>\n",
              "      <td>-</td>\n",
              "      <td>via MEM</td>\n",
              "      <td>Protected 31-42</td>\n",
              "      <td>ATL</td>\n",
              "    </tr>\n",
              "  </tbody>\n",
              "</table>\n",
              "</div>\n",
              "    <div class=\"colab-df-buttons\">\n",
              "\n",
              "  <div class=\"colab-df-container\">\n",
              "    <button class=\"colab-df-convert\" onclick=\"convertToInteractive('df-65d42592-dacc-4eb9-8a6f-341b15612231')\"\n",
              "            title=\"Convert this dataframe to an interactive table.\"\n",
              "            style=\"display:none;\">\n",
              "\n",
              "  <svg xmlns=\"http://www.w3.org/2000/svg\" height=\"24px\" viewBox=\"0 -960 960 960\">\n",
              "    <path d=\"M120-120v-720h720v720H120Zm60-500h600v-160H180v160Zm220 220h160v-160H400v160Zm0 220h160v-160H400v160ZM180-400h160v-160H180v160Zm440 0h160v-160H620v160ZM180-180h160v-160H180v160Zm440 0h160v-160H620v160Z\"/>\n",
              "  </svg>\n",
              "    </button>\n",
              "\n",
              "  <style>\n",
              "    .colab-df-container {\n",
              "      display:flex;\n",
              "      gap: 12px;\n",
              "    }\n",
              "\n",
              "    .colab-df-convert {\n",
              "      background-color: #E8F0FE;\n",
              "      border: none;\n",
              "      border-radius: 50%;\n",
              "      cursor: pointer;\n",
              "      display: none;\n",
              "      fill: #1967D2;\n",
              "      height: 32px;\n",
              "      padding: 0 0 0 0;\n",
              "      width: 32px;\n",
              "    }\n",
              "\n",
              "    .colab-df-convert:hover {\n",
              "      background-color: #E2EBFA;\n",
              "      box-shadow: 0px 1px 2px rgba(60, 64, 67, 0.3), 0px 1px 3px 1px rgba(60, 64, 67, 0.15);\n",
              "      fill: #174EA6;\n",
              "    }\n",
              "\n",
              "    .colab-df-buttons div {\n",
              "      margin-bottom: 4px;\n",
              "    }\n",
              "\n",
              "    [theme=dark] .colab-df-convert {\n",
              "      background-color: #3B4455;\n",
              "      fill: #D2E3FC;\n",
              "    }\n",
              "\n",
              "    [theme=dark] .colab-df-convert:hover {\n",
              "      background-color: #434B5C;\n",
              "      box-shadow: 0px 1px 3px 1px rgba(0, 0, 0, 0.15);\n",
              "      filter: drop-shadow(0px 1px 2px rgba(0, 0, 0, 0.3));\n",
              "      fill: #FFFFFF;\n",
              "    }\n",
              "  </style>\n",
              "\n",
              "    <script>\n",
              "      const buttonEl =\n",
              "        document.querySelector('#df-65d42592-dacc-4eb9-8a6f-341b15612231 button.colab-df-convert');\n",
              "      buttonEl.style.display =\n",
              "        google.colab.kernel.accessAllowed ? 'block' : 'none';\n",
              "\n",
              "      async function convertToInteractive(key) {\n",
              "        const element = document.querySelector('#df-65d42592-dacc-4eb9-8a6f-341b15612231');\n",
              "        const dataTable =\n",
              "          await google.colab.kernel.invokeFunction('convertToInteractive',\n",
              "                                                    [key], {});\n",
              "        if (!dataTable) return;\n",
              "\n",
              "        const docLinkHtml = 'Like what you see? Visit the ' +\n",
              "          '<a target=\"_blank\" href=https://colab.research.google.com/notebooks/data_table.ipynb>data table notebook</a>'\n",
              "          + ' to learn more about interactive tables.';\n",
              "        element.innerHTML = '';\n",
              "        dataTable['output_type'] = 'display_data';\n",
              "        await google.colab.output.renderOutput(dataTable, element);\n",
              "        const docLink = document.createElement('div');\n",
              "        docLink.innerHTML = docLinkHtml;\n",
              "        element.appendChild(docLink);\n",
              "      }\n",
              "    </script>\n",
              "  </div>\n",
              "\n",
              "\n",
              "<div id=\"df-730f7b0b-0ee2-434b-b55a-c2f4067eb4d2\">\n",
              "  <button class=\"colab-df-quickchart\" onclick=\"quickchart('df-730f7b0b-0ee2-434b-b55a-c2f4067eb4d2')\"\n",
              "            title=\"Suggest charts\"\n",
              "            style=\"display:none;\">\n",
              "\n",
              "<svg xmlns=\"http://www.w3.org/2000/svg\" height=\"24px\"viewBox=\"0 0 24 24\"\n",
              "     width=\"24px\">\n",
              "    <g>\n",
              "        <path d=\"M19 3H5c-1.1 0-2 .9-2 2v14c0 1.1.9 2 2 2h14c1.1 0 2-.9 2-2V5c0-1.1-.9-2-2-2zM9 17H7v-7h2v7zm4 0h-2V7h2v10zm4 0h-2v-4h2v4z\"/>\n",
              "    </g>\n",
              "</svg>\n",
              "  </button>\n",
              "\n",
              "<style>\n",
              "  .colab-df-quickchart {\n",
              "      --bg-color: #E8F0FE;\n",
              "      --fill-color: #1967D2;\n",
              "      --hover-bg-color: #E2EBFA;\n",
              "      --hover-fill-color: #174EA6;\n",
              "      --disabled-fill-color: #AAA;\n",
              "      --disabled-bg-color: #DDD;\n",
              "  }\n",
              "\n",
              "  [theme=dark] .colab-df-quickchart {\n",
              "      --bg-color: #3B4455;\n",
              "      --fill-color: #D2E3FC;\n",
              "      --hover-bg-color: #434B5C;\n",
              "      --hover-fill-color: #FFFFFF;\n",
              "      --disabled-bg-color: #3B4455;\n",
              "      --disabled-fill-color: #666;\n",
              "  }\n",
              "\n",
              "  .colab-df-quickchart {\n",
              "    background-color: var(--bg-color);\n",
              "    border: none;\n",
              "    border-radius: 50%;\n",
              "    cursor: pointer;\n",
              "    display: none;\n",
              "    fill: var(--fill-color);\n",
              "    height: 32px;\n",
              "    padding: 0;\n",
              "    width: 32px;\n",
              "  }\n",
              "\n",
              "  .colab-df-quickchart:hover {\n",
              "    background-color: var(--hover-bg-color);\n",
              "    box-shadow: 0 1px 2px rgba(60, 64, 67, 0.3), 0 1px 3px 1px rgba(60, 64, 67, 0.15);\n",
              "    fill: var(--button-hover-fill-color);\n",
              "  }\n",
              "\n",
              "  .colab-df-quickchart-complete:disabled,\n",
              "  .colab-df-quickchart-complete:disabled:hover {\n",
              "    background-color: var(--disabled-bg-color);\n",
              "    fill: var(--disabled-fill-color);\n",
              "    box-shadow: none;\n",
              "  }\n",
              "\n",
              "  .colab-df-spinner {\n",
              "    border: 2px solid var(--fill-color);\n",
              "    border-color: transparent;\n",
              "    border-bottom-color: var(--fill-color);\n",
              "    animation:\n",
              "      spin 1s steps(1) infinite;\n",
              "  }\n",
              "\n",
              "  @keyframes spin {\n",
              "    0% {\n",
              "      border-color: transparent;\n",
              "      border-bottom-color: var(--fill-color);\n",
              "      border-left-color: var(--fill-color);\n",
              "    }\n",
              "    20% {\n",
              "      border-color: transparent;\n",
              "      border-left-color: var(--fill-color);\n",
              "      border-top-color: var(--fill-color);\n",
              "    }\n",
              "    30% {\n",
              "      border-color: transparent;\n",
              "      border-left-color: var(--fill-color);\n",
              "      border-top-color: var(--fill-color);\n",
              "      border-right-color: var(--fill-color);\n",
              "    }\n",
              "    40% {\n",
              "      border-color: transparent;\n",
              "      border-right-color: var(--fill-color);\n",
              "      border-top-color: var(--fill-color);\n",
              "    }\n",
              "    60% {\n",
              "      border-color: transparent;\n",
              "      border-right-color: var(--fill-color);\n",
              "    }\n",
              "    80% {\n",
              "      border-color: transparent;\n",
              "      border-right-color: var(--fill-color);\n",
              "      border-bottom-color: var(--fill-color);\n",
              "    }\n",
              "    90% {\n",
              "      border-color: transparent;\n",
              "      border-bottom-color: var(--fill-color);\n",
              "    }\n",
              "  }\n",
              "</style>\n",
              "\n",
              "  <script>\n",
              "    async function quickchart(key) {\n",
              "      const quickchartButtonEl =\n",
              "        document.querySelector('#' + key + ' button');\n",
              "      quickchartButtonEl.disabled = true;  // To prevent multiple clicks.\n",
              "      quickchartButtonEl.classList.add('colab-df-spinner');\n",
              "      try {\n",
              "        const charts = await google.colab.kernel.invokeFunction(\n",
              "            'suggestCharts', [key], {});\n",
              "      } catch (error) {\n",
              "        console.error('Error during call to suggestCharts:', error);\n",
              "      }\n",
              "      quickchartButtonEl.classList.remove('colab-df-spinner');\n",
              "      quickchartButtonEl.classList.add('colab-df-quickchart-complete');\n",
              "    }\n",
              "    (() => {\n",
              "      let quickchartButtonEl =\n",
              "        document.querySelector('#df-730f7b0b-0ee2-434b-b55a-c2f4067eb4d2 button');\n",
              "      quickchartButtonEl.style.display =\n",
              "        google.colab.kernel.accessAllowed ? 'block' : 'none';\n",
              "    })();\n",
              "  </script>\n",
              "</div>\n",
              "\n",
              "    </div>\n",
              "  </div>\n"
            ],
            "application/vnd.google.colaboratory.intrinsic+json": {
              "type": "dataframe",
              "variable_name": "draftPicksDf",
              "summary": "{\n  \"name\": \"draftPicksDf\",\n  \"rows\": 427,\n  \"fields\": [\n    {\n      \"column\": \"year\",\n      \"properties\": {\n        \"dtype\": \"number\",\n        \"std\": 2,\n        \"min\": 2025,\n        \"max\": 2031,\n        \"num_unique_values\": 7,\n        \"samples\": [\n          2025,\n          2026,\n          2030\n        ],\n        \"semantic_type\": \"\",\n        \"description\": \"\"\n      }\n    },\n    {\n      \"column\": \"round\",\n      \"properties\": {\n        \"dtype\": \"number\",\n        \"std\": 0,\n        \"min\": 1,\n        \"max\": 2,\n        \"num_unique_values\": 2,\n        \"samples\": [\n          2,\n          1\n        ],\n        \"semantic_type\": \"\",\n        \"description\": \"\"\n      }\n    },\n    {\n      \"column\": \"#\",\n      \"properties\": {\n        \"dtype\": \"category\",\n        \"num_unique_values\": 1,\n        \"samples\": [\n          \"-\"\n        ],\n        \"semantic_type\": \"\",\n        \"description\": \"\"\n      }\n    },\n    {\n      \"column\": \"from\",\n      \"properties\": {\n        \"dtype\": \"category\",\n        \"num_unique_values\": 81,\n        \"samples\": [\n          \"OKC or PHX swap rights\"\n        ],\n        \"semantic_type\": \"\",\n        \"description\": \"\"\n      }\n    },\n    {\n      \"column\": \"description\",\n      \"properties\": {\n        \"dtype\": \"category\",\n        \"num_unique_values\": 56,\n        \"samples\": [\n          \"Protected 1-12\"\n        ],\n        \"semantic_type\": \"\",\n        \"description\": \"\"\n      }\n    },\n    {\n      \"column\": \"team\",\n      \"properties\": {\n        \"dtype\": \"category\",\n        \"num_unique_values\": 30,\n        \"samples\": [\n          \"TOR\"\n        ],\n        \"semantic_type\": \"\",\n        \"description\": \"\"\n      }\n    }\n  ]\n}"
            }
          },
          "metadata": {},
          "execution_count": 126
        }
      ]
    },
    {
      "cell_type": "code",
      "source": [
        "draftPicksDf.to_csv(\"draft_picks_data.csv\", index=False)"
      ],
      "metadata": {
        "id": "fUpoIDfwuV3H"
      },
      "execution_count": null,
      "outputs": []
    }
  ]
}
